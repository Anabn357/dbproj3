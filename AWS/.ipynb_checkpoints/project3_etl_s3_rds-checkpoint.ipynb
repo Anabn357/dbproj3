{
 "cells": [
  {
   "cell_type": "code",
   "execution_count": 27,
   "metadata": {
    "id": "Y6pz7LGh_L1p"
   },
   "outputs": [],
   "source": [
    "# Install Java, Spark, and Findspark\n",
    "!apt-get install openjdk-8-jdk-headless -qq > /dev/null\n",
    "!wget -q http://www-us.apache.org/dist/spark/spark-2.4.7/spark-2.4.7-bin-hadoop2.7.tgz\n",
    "!tar xf spark-2.4.7-bin-hadoop2.7.tgz\n",
    "!pip install -q findspark\n",
    "\n",
    "# Set Environment Variables\n",
    "import os\n",
    "os.environ[\"JAVA_HOME\"] = \"/usr/lib/jvm/java-8-openjdk-amd64\"\n",
    "os.environ[\"SPARK_HOME\"] = \"/content/spark-2.4.7-bin-hadoop2.7\"\n",
    "\n",
    "# Start a SparkSession\n",
    "import findspark\n",
    "findspark.init()"
   ]
  },
  {
   "cell_type": "code",
   "execution_count": 28,
   "metadata": {
    "colab": {
     "base_uri": "https://localhost:8080/",
     "height": 202
    },
    "id": "WuD1_0fI0ujp",
    "outputId": "efc81fb7-e66a-44fa-ff5a-5a15d99b8f95"
   },
   "outputs": [
    {
     "name": "stdout",
     "output_type": "stream",
     "text": [
      "--2020-10-09 01:56:59--  https://jdbc.postgresql.org/download/postgresql-42.2.9.jar\n",
      "Resolving jdbc.postgresql.org (jdbc.postgresql.org)... 72.32.157.228, 2001:4800:3e1:1::228\n",
      "Connecting to jdbc.postgresql.org (jdbc.postgresql.org)|72.32.157.228|:443... connected.\n",
      "HTTP request sent, awaiting response... 200 OK\n",
      "Length: 914037 (893K) [application/java-archive]\n",
      "Saving to: ‘postgresql-42.2.9.jar.1’\n",
      "\n",
      "postgresql-42.2.9.j 100%[===================>] 892.61K  5.06MB/s    in 0.2s    \n",
      "\n",
      "2020-10-09 01:57:00 (5.06 MB/s) - ‘postgresql-42.2.9.jar.1’ saved [914037/914037]\n",
      "\n"
     ]
    }
   ],
   "source": [
    "!wget https://jdbc.postgresql.org/download/postgresql-42.2.9.jar"
   ]
  },
  {
   "cell_type": "code",
   "execution_count": 3,
   "metadata": {
    "id": "b0s_vVJ80ujs"
   },
   "outputs": [],
   "source": [
    "from pyspark.sql import SparkSession\n",
    "spark = SparkSession.builder.appName(\"CloudETL\").config(\"spark.driver.extraClassPath\",\"/content/postgresql-42.2.9.jar\").getOrCreate()"
   ]
  },
  {
   "cell_type": "code",
   "execution_count": 4,
   "metadata": {
    "id": "fA5OUvRJc4DU"
   },
   "outputs": [],
   "source": [
    "from pyspark import SparkFiles\n",
    "# Load in employee.csv from S3 into a DataFrame\n",
    "grouped_platforms = \"https://dbproj3.s3.us-east-2.amazonaws.com/grouped_platforms.csv\"\n",
    "genre = \"https://dbproj3.s3.us-east-2.amazonaws.com/grouped_years_genres.csv\"\n",
    "grouped_years_mean = \"https://dbproj3.s3.us-east-2.amazonaws.com/grouped_years_mean.csv\"\n",
    "grouped_years_platforms_names = \"https://dbproj3.s3.us-east-2.amazonaws.com/grouped_years_platforms_names.csv\"\n",
    "whatoplay_data = \"https://dbproj3.s3.us-east-2.amazonaws.com/whatoplay_data.csv\"\n",
    "\n",
    "spark.sparkContext.addFile(grouped_platforms)\n",
    "spark.sparkContext.addFile(genre)\n",
    "spark.sparkContext.addFile(grouped_years_mean)\n",
    "spark.sparkContext.addFile(grouped_years_platforms_names)\n",
    "spark.sparkContext.addFile(whatoplay_data)\n",
    "\n",
    "\n",
    "grouped_platforms_df = spark.read.option('header', 'true').csv(SparkFiles.get(\"grouped_platforms.csv\"), inferSchema=True, sep=',', timestampFormat=\"mm/dd/yy\")\n",
    "grouped_years_genres_df = spark.read.option('header', 'true').csv(SparkFiles.get(\"grouped_years_genres.csv\"), inferSchema=True, sep=',', timestampFormat=\"mm/dd/yy\")\n",
    "grouped_years_mean_df = spark.read.option('header', 'true').csv(SparkFiles.get(\"grouped_years_mean.csv\"), inferSchema=True, sep=',', timestampFormat=\"mm/dd/yy\")\n",
    "grouped_years_platforms_names_df = spark.read.option('header', 'true').csv(SparkFiles.get(\"grouped_years_platforms_names.csv\"), inferSchema=True, sep=',', timestampFormat=\"mm/dd/yy\")\n",
    "whatoplay_data_df = spark.read.option('header', 'true').csv(SparkFiles.get(\"whatoplay_data.csv\"), inferSchema=True, sep=',', timestampFormat=\"mm/dd/yy\")"
   ]
  },
  {
   "cell_type": "markdown",
   "metadata": {
    "id": "GAgvBYkG_awE"
   },
   "source": [
    "## Examine the schema"
   ]
  },
  {
   "cell_type": "code",
   "execution_count": 21,
   "metadata": {
    "colab": {
     "base_uri": "https://localhost:8080/",
     "height": 1000
    },
    "id": "SXtPi-Hw_dCe",
    "outputId": "2bed0915-71fd-455b-e404-0d881951856c"
   },
   "outputs": [
    {
     "name": "stdout",
     "output_type": "stream",
     "text": [
      "root\n",
      " |-- Platform: string (nullable = true)\n",
      " |-- Year: integer (nullable = true)\n",
      " |-- Rank: integer (nullable = true)\n",
      " |-- NA_Sales: double (nullable = true)\n",
      " |-- EU_Sales: double (nullable = true)\n",
      " |-- JP_Sales: double (nullable = true)\n",
      " |-- Other_Sales: double (nullable = true)\n",
      " |-- Global_Sales: double (nullable = true)\n",
      "\n",
      "root\n",
      " |-- Year: integer (nullable = true)\n",
      " |-- Genre: string (nullable = true)\n",
      " |-- Rank: integer (nullable = true)\n",
      " |-- NA_Sales: double (nullable = true)\n",
      " |-- EU_Sales: double (nullable = true)\n",
      " |-- JP_Sales: double (nullable = true)\n",
      " |-- Other_Sales: double (nullable = true)\n",
      " |-- Global_Sales: double (nullable = true)\n",
      "\n",
      "root\n",
      " |-- Year: integer (nullable = true)\n",
      " |-- Rank: double (nullable = true)\n",
      " |-- NA_Sales: double (nullable = true)\n",
      " |-- EU_Sales: double (nullable = true)\n",
      " |-- JP_Sales: double (nullable = true)\n",
      " |-- Other_Sales: double (nullable = true)\n",
      " |-- Global_Sales: double (nullable = true)\n",
      "\n",
      "root\n",
      " |-- Name: string (nullable = true)\n",
      " |-- Platform: string (nullable = true)\n",
      " |-- Year: integer (nullable = true)\n",
      " |-- Rank: integer (nullable = true)\n",
      " |-- NA_Sales: double (nullable = true)\n",
      " |-- EU_Sales: double (nullable = true)\n",
      " |-- JP_Sales: double (nullable = true)\n",
      " |-- Other_Sales: double (nullable = true)\n",
      " |-- Global_Sales: double (nullable = true)\n",
      "\n",
      "root\n",
      " |-- Name: string (nullable = true)\n",
      " |-- Platform: string (nullable = true)\n",
      " |-- Year_of_Release: integer (nullable = true)\n",
      " |-- Genre: string (nullable = true)\n",
      " |-- Publisher: string (nullable = true)\n",
      " |-- NA_Sales: double (nullable = true)\n",
      " |-- EU_Sales: double (nullable = true)\n",
      " |-- JP_Sales: double (nullable = true)\n",
      " |-- Other_Sales: double (nullable = true)\n",
      " |-- Global_Sales: double (nullable = true)\n",
      " |-- Critic_Score: integer (nullable = true)\n",
      " |-- Critic_Count: integer (nullable = true)\n",
      " |-- User_Score: double (nullable = true)\n",
      " |-- User_Count: integer (nullable = true)\n",
      " |-- Developer: string (nullable = true)\n",
      " |-- Rating: string (nullable = true)\n",
      " |-- PlayScore: double (nullable = true)\n",
      " |-- GameScore: double (nullable = true)\n",
      " |-- CriticScore: double (nullable = true)\n",
      "\n"
     ]
    }
   ],
   "source": [
    "grouped_platforms_df.printSchema()\n",
    "grouped_years_genres_df.printSchema()\n",
    "grouped_years_mean_df.printSchema()\n",
    "grouped_years_platforms_names_df.printSchema()\n",
    "whatoplay_data_df.printSchema()"
   ]
  },
  {
   "cell_type": "markdown",
   "metadata": {
    "id": "0PDvBiVN_jGe"
   },
   "source": [
    "## Write DataFrame to RDS"
   ]
  },
  {
   "cell_type": "code",
   "execution_count": 19,
   "metadata": {
    "id": "oLjHVPxBjiDT"
   },
   "outputs": [],
   "source": [
    "mode=\"append\"\n",
    "jdbc_url = \"jdbc:postgresql://dbproj3.cuxtxx9etluh.us-east-2.rds.amazonaws.com:5432/postgres\"\n",
    "config = {\"user\":\"postgres\",\n",
    "          \"password\": \"postgres\",\n",
    "          \"driver\":\"org.postgresql.Driver\"}"
   ]
  },
  {
   "cell_type": "code",
   "execution_count": 22,
   "metadata": {
    "colab": {
     "base_uri": "https://localhost:8080/",
     "height": 286
    },
    "id": "iu0YqpxkDWqg",
    "outputId": "507346b6-557e-42e6-9928-84d7565603a4"
   },
   "outputs": [
    {
     "name": "stdout",
     "output_type": "stream",
     "text": [
      "+--------+----+------+------------------+------------------+--------+--------------------+------------------+\n",
      "|Platform|Year|  Rank|          NA_Sales|          EU_Sales|JP_Sales|         Other_Sales|      Global_Sales|\n",
      "+--------+----+------+------------------+------------------+--------+--------------------+------------------+\n",
      "|    2600|1980| 29826|10.590000000000003|0.6700000000000002|     0.0| 0.11999999999999998|11.379999999999999|\n",
      "|    2600|1981|190488|              33.4|1.9600000000000006|     0.0|  0.3200000000000001| 35.77000000000001|\n",
      "|    2600|1982|149186|26.920000000000005|1.6500000000000008|     0.0| 0.31000000000000016|28.859999999999996|\n",
      "|    2600|1983| 49355| 5.440000000000001|0.3400000000000001|     0.0|0.060000000000000005|              5.83|\n",
      "|    2600|1984|  6298|              0.26|              0.01|     0.0|                 0.0|              0.27|\n",
      "|    2600|1985|  4339|              0.42|              0.03|     0.0|                 0.0|              0.45|\n",
      "|    2600|1986| 11042|0.6300000000000001|              0.04|     0.0|                 0.0|0.6599999999999999|\n",
      "|    2600|1987| 41765|              1.84|              0.09|     0.0|                0.01|1.9800000000000002|\n",
      "|    2600|1988| 10883|0.6900000000000001|              0.04|     0.0|                0.01|              0.75|\n",
      "|    2600|1989| 12908|0.5900000000000001|              0.03|     0.0|                0.01|              0.62|\n",
      "+--------+----+------+------------------+------------------+--------+--------------------+------------------+\n",
      "only showing top 10 rows\n",
      "\n"
     ]
    }
   ],
   "source": [
    "grouped_platforms_df.show(10)"
   ]
  },
  {
   "cell_type": "code",
   "execution_count": 23,
   "metadata": {
    "colab": {
     "base_uri": "https://localhost:8080/",
     "height": 286
    },
    "id": "qz8uPuPzEAdy",
    "outputId": "eaa56307-a203-430b-8869-c3752c253dea"
   },
   "outputs": [
    {
     "name": "stdout",
     "output_type": "stream",
     "text": [
      "+----+--------+------+--------+--------+--------+-----------+------------+\n",
      "|Year|   Genre|  Rank|NA_Sales|EU_Sales|JP_Sales|Other_Sales|Global_Sales|\n",
      "+----+--------+------+--------+--------+--------+-----------+------------+\n",
      "|1980|  Action|  5368|    0.32|    0.02|     0.0|        0.0|        0.34|\n",
      "|1980|Fighting|  2671|    0.72|    0.04|     0.0|       0.01|        0.77|\n",
      "|1980|    Misc| 16956|    2.53|    0.15|     0.0|       0.02|        2.71|\n",
      "|1980| Shooter|   804|    6.56|    0.43|     0.0|       0.08|        7.07|\n",
      "|1980|  Sports|  4027|    0.46|    0.03|     0.0|       0.01|        0.49|\n",
      "|1981|  Action|111447|   13.86|    0.81|     0.0|       0.12|       14.84|\n",
      "|1981|Platform|  3693|    6.47|    0.37|     0.0|       0.08|        6.93|\n",
      "|1981|  Puzzle|  4513|    2.09|    0.13|     0.0|       0.03|        2.24|\n",
      "|1981|  Racing|  4141|    0.45|    0.03|     0.0|        0.0|        0.48|\n",
      "|1981| Shooter| 31031|    9.37|    0.56|     0.0|       0.09|       10.04|\n",
      "+----+--------+------+--------+--------+--------+-----------+------------+\n",
      "only showing top 10 rows\n",
      "\n"
     ]
    }
   ],
   "source": [
    "grouped_years_genres_df.show(10)"
   ]
  },
  {
   "cell_type": "code",
   "execution_count": 24,
   "metadata": {
    "colab": {
     "base_uri": "https://localhost:8080/",
     "height": 286
    },
    "id": "krPB8we6EGOA",
    "outputId": "7c521242-2684-43ac-ee97-f4c3c84aecd9"
   },
   "outputs": [
    {
     "name": "stdout",
     "output_type": "stream",
     "text": [
      "+----+------------------+-------------------+-------------------+------------------+--------------------+------------------+\n",
      "|Year|              Rank|           NA_Sales|           EU_Sales|          JP_Sales|         Other_Sales|      Global_Sales|\n",
      "+----+------------------+-------------------+-------------------+------------------+--------------------+------------------+\n",
      "|1980|            3314.0|  1.176666666666667|0.07444444444444447|               0.0| 0.01333333333333333|1.2644444444444443|\n",
      "|1981|  4141.04347826087|  0.726086956521739|0.04260869565217393|               0.0|0.006956521739130438|0.7776086956521742|\n",
      "|1982| 4144.055555555556| 0.7477777777777779|0.04583333333333336|               0.0|0.008611111111111116|0.8016666666666665|\n",
      "|1983| 3338.764705882353|0.45647058823529413|0.04705882352941178|0.4764705882352941|0.008235294117647058|0.9876470588235295|\n",
      "|1984|            1636.5| 2.3771428571428572|0.14999999999999997|1.0192857142857141| 0.05000000000000001|3.5971428571428583|\n",
      "|1985|3964.6428571428573| 2.4092857142857143| 0.3385714285714286|              1.04| 0.06571428571428573| 3.852857142857143|\n",
      "|1986|1713.6190476190477| 0.5952380952380952|0.13523809523809527|0.9433333333333332|  0.0919047619047619|1.7652380952380953|\n",
      "|1987|         3418.8125| 0.5287500000000002|0.08812500000000001|          0.726875|0.012500000000000002|1.3587499999999997|\n",
      "|1988| 2478.733333333333| 1.5913333333333333| 0.4393333333333334|1.0506666666666666|               0.066|             3.148|\n",
      "|1989|2362.1176470588234| 2.6558823529411764| 0.4964705882352941|              1.08| 0.08823529411764708| 4.320588235294117|\n",
      "+----+------------------+-------------------+-------------------+------------------+--------------------+------------------+\n",
      "only showing top 10 rows\n",
      "\n"
     ]
    }
   ],
   "source": [
    "grouped_years_mean_df.show(10)"
   ]
  },
  {
   "cell_type": "code",
   "execution_count": 25,
   "metadata": {
    "colab": {
     "base_uri": "https://localhost:8080/",
     "height": 286
    },
    "id": "xp8NYEnfEQBA",
    "outputId": "e4f9368e-9dee-4834-f0ae-9fffbfda9435"
   },
   "outputs": [
    {
     "name": "stdout",
     "output_type": "stream",
     "text": [
      "+--------------------+--------+----+----+--------+--------+--------+-----------+-------------------+\n",
      "|                Name|Platform|Year|Rank|NA_Sales|EU_Sales|JP_Sales|Other_Sales|       Global_Sales|\n",
      "+--------------------+--------+----+----+--------+--------+--------+-----------+-------------------+\n",
      "|         '98 Koshien|      PS|1998|4756|    0.15|     0.1|    0.12|       0.03|0.41000000000000003|\n",
      "|.hack//G.U. Vol.1...|     PS2|2006|8359|     0.0|     0.0|    0.17|        0.0|               0.17|\n",
      "|.hack//G.U. Vol.2...|     PS2|2006|7109|    0.11|    0.09|     0.0|       0.03|               0.23|\n",
      "|.hack//G.U. Vol.2...|     PS2|2006|8604|     0.0|     0.0|    0.16|        0.0|               0.16|\n",
      "|.hack//G.U. Vol.3...|     PS2|2007|8306|     0.0|     0.0|    0.17|        0.0|               0.17|\n",
      "|.hack//Infection ...|     PS2|2002|1565|    0.49|    0.38|    0.26|       0.13|               1.27|\n",
      "|         .hack//Link|     PSP|2010|9076|     0.0|     0.0|    0.14|        0.0|               0.14|\n",
      "|.hack//Mutation P...|     PS2|2002|3004|    0.23|    0.18|     0.2|       0.06|               0.68|\n",
      "|.hack//Outbreak P...|     PS2|2002|4296|    0.14|    0.11|    0.17|       0.04|               0.46|\n",
      "|.hack//Quarantine...|     PS2|2003|8009|    0.09|    0.07|     0.0|       0.02|               0.18|\n",
      "+--------------------+--------+----+----+--------+--------+--------+-----------+-------------------+\n",
      "only showing top 10 rows\n",
      "\n"
     ]
    }
   ],
   "source": [
    "grouped_years_platforms_names_df.show(10)"
   ]
  },
  {
   "cell_type": "code",
   "execution_count": 26,
   "metadata": {
    "colab": {
     "base_uri": "https://localhost:8080/",
     "height": 306
    },
    "id": "CaCaTacnEcUd",
    "outputId": "afb95f75-e2b7-4dad-a1d2-4c4b67abd11e"
   },
   "outputs": [
    {
     "name": "stdout",
     "output_type": "stream",
     "text": [
      "+--------------------+--------+---------------+--------+--------------------+--------+--------+--------+-----------+------------+------------+------------+----------+----------+--------------------+------+---------+---------+-----------+\n",
      "|                Name|Platform|Year_of_Release|   Genre|           Publisher|NA_Sales|EU_Sales|JP_Sales|Other_Sales|Global_Sales|Critic_Score|Critic_Count|User_Score|User_Count|           Developer|Rating|PlayScore|GameScore|CriticScore|\n",
      "+--------------------+--------+---------------+--------+--------------------+--------+--------+--------+-----------+------------+------------+------------+----------+----------+--------------------+------+---------+---------+-----------+\n",
      "|  Grand Theft Auto V|     PS3|           2013|  Action|Take-Two Interactive|    7.02|    9.09|    0.98|       3.96|       21.04|          97|          50|       8.2|      3994|      Rockstar North|     M|     9.29|     9.34|       9.24|\n",
      "|Call of Duty: Bla...|     PS3|           2012| Shooter|          Activision|    4.99|    5.73|    0.65|       2.42|       13.79|          83|          21|       5.3|       922|            Treyarch|     M|     7.73|     7.52|       7.95|\n",
      "|Call of Duty: Mod...|     PS3|           2011| Shooter|          Activision|    5.54|    5.73|    0.49|       1.57|       13.32|          88|          39|       3.2|      5234|Infinity Ward, Sl...|     M|      8.0|     7.56|       8.44|\n",
      "|        Mario Kart 7|     3DS|           2011|  Racing|            Nintendo|    5.03|    4.02|    2.69|       0.91|       12.66|          85|          73|       8.2|       632|Retro Studios, En...|     E|     9.09|     9.77|       8.41|\n",
      "|Call of Duty: Bla...|     PS3|           2010| Shooter|          Activision|    5.99|    4.37|    0.48|       1.79|       12.63|          88|          58|       6.4|      1094|            Treyarch|     M|     8.16|     7.91|       8.41|\n",
      "|  Grand Theft Auto V|     PS4|           2014|  Action|Take-Two Interactive|    3.96|    6.31|    0.38|       1.97|       12.61|          97|          66|       8.3|      2899|      Rockstar North|     M|     9.32|     9.29|       9.35|\n",
      "| Super Mario 3D Land|     3DS|           2011|Platform|            Nintendo|    4.89|     3.0|    2.14|       0.78|       10.81|          90|          82|       8.4|       921|            Nintendo|     E|     9.22|     9.76|       8.67|\n",
      "|      Gran Turismo 5|     PS3|           2010|  Racing|Sony Computer Ent...|    2.96|    4.82|    0.81|       2.11|        10.7|          84|          82|       7.5|      1112|   Polyphony Digital|     E|     8.22|     8.11|       8.32|\n",
      "|Call of Duty: Mod...|     PS3|           2009| Shooter|          Activision|    4.99|    3.64|    0.38|        1.6|        10.6|          94|          67|       6.3|      2073|       Infinity Ward|     M|     8.65|     8.53|       8.78|\n",
      "| Grand Theft Auto IV|     PS3|           2008|  Action|Take-Two Interactive|    4.76|    3.69|    0.44|       1.61|        10.5|          98|          64|       7.5|      2833|      Rockstar North|     M|     8.93|     8.88|       8.98|\n",
      "+--------------------+--------+---------------+--------+--------------------+--------+--------+--------+-----------+------------+------------+------------+----------+----------+--------------------+------+---------+---------+-----------+\n",
      "only showing top 10 rows\n",
      "\n"
     ]
    }
   ],
   "source": [
    "whatoplay_data_df.show(10)"
   ]
  },
  {
   "cell_type": "code",
   "execution_count": 20,
   "metadata": {
    "id": "K6_O84CK_nV5"
   },
   "outputs": [],
   "source": [
    "# Write DataFrame to table\n",
    "grouped_platforms_df.write.jdbc(url=jdbc_url, table='grouped_platforms', mode=mode, properties=config)\n",
    "grouped_years_genres_df.write.jdbc(url=jdbc_url, table='grouped_years_genres_df', mode=mode, properties=config)\n",
    "grouped_years_mean_df.write.jdbc(url=jdbc_url, table='grouped_years_mean_df', mode=mode, properties=config)\n",
    "grouped_years_platforms_names_df.write.jdbc(url=jdbc_url, table='grouped_years_platforms_names_df', mode=mode, properties=config)\n",
    "whatoplay_data_df.write.jdbc(url=jdbc_url, table='whatoplay_data_df', mode=mode, properties=config)\n"
   ]
  },
  {
   "cell_type": "code",
   "execution_count": 29,
   "metadata": {
    "id": "xDDhbxNXD_Mr"
   },
   "outputs": [],
   "source": [
    "grouped_platforms_df.write.jdbc(url=jdbc_url, table='grouped_platforms', mode=mode, properties=config)\n",
    "\n"
   ]
  }
 ],
 "metadata": {
  "colab": {
   "collapsed_sections": [],
   "name": "project3_etl_s3_rds.ipynb",
   "provenance": []
  },
  "kernelspec": {
   "display_name": "Python 3",
   "language": "python",
   "name": "python3"
  },
  "language_info": {
   "codemirror_mode": {
    "name": "ipython",
    "version": 3
   },
   "file_extension": ".py",
   "mimetype": "text/x-python",
   "name": "python",
   "nbconvert_exporter": "python",
   "pygments_lexer": "ipython3",
   "version": "3.7.6"
  },
  "latex_envs": {
   "LaTeX_envs_menu_present": true,
   "autoclose": false,
   "autocomplete": true,
   "bibliofile": "biblio.bib",
   "cite_by": "apalike",
   "current_citInitial": 1,
   "eqLabelWithNumbers": true,
   "eqNumInitial": 1,
   "hotkeys": {
    "equation": "Ctrl-E",
    "itemize": "Ctrl-I"
   },
   "labels_anchors": false,
   "latex_user_defs": false,
   "report_style_numbering": false,
   "user_envs_cfg": false
  }
 },
 "nbformat": 4,
 "nbformat_minor": 1
}
